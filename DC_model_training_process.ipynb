{
 "cells": [
  {
   "cell_type": "markdown",
   "id": "9a17e8e1-5dd1-4e4e-a4cb-c79d7a192ca5",
   "metadata": {},
   "source": [
    "#### 1. Load packages"
   ]
  },
  {
   "cell_type": "code",
   "execution_count": 1,
   "id": "59173387-2f20-4620-aaf4-db53eb1ff6c9",
   "metadata": {},
   "outputs": [],
   "source": [
    "%matplotlib inline\n",
    "\n",
    "import pandas as pd\n",
    "import numpy as np\n",
    "import matplotlib.pyplot as plt\n",
    "import pickle, random\n",
    "\n",
    "from sklearn.model_selection import train_test_split\n",
    "from sklearn.neighbors import KNeighborsClassifier\n",
    "\n",
    "from keras.models import Sequential,load_model,Model\n",
    "from keras.layers import Dense, Dropout, LeakyReLU, BatchNormalization\n",
    "from keras.callbacks import ModelCheckpoint\n",
    "from tensorflow.keras.optimizers import Adam\n",
    "\n",
    "import warnings\n",
    "warnings.filterwarnings('ignore')"
   ]
  },
  {
   "cell_type": "markdown",
   "id": "e49c8517-be8c-4386-ac10-3e8d9e7de1c1",
   "metadata": {},
   "source": [
    "#### 2. Load data, transfer to pands dataframes, and review the first 3 rows"
   ]
  },
  {
   "cell_type": "code",
   "execution_count": 2,
   "id": "e8aa3d78-f76d-427a-9521-1bedfe4cb7eb",
   "metadata": {},
   "outputs": [],
   "source": [
    "audio_emb_file = '/home/drorco/DC_corsound_submission/audio_embeddings.pickle'\n",
    "face_emb_file = '/home/drorco/DC_corsound_submission/image_embeddings.pickle'\n",
    "\n",
    "audio_emb = pickle.load(open(audio_emb_file, \"rb\"))\n",
    "face_emb = pickle.load(open(face_emb_file, \"rb\"))\n",
    "\n",
    "audio_df =  pd.DataFrame.from_dict(audio_emb).T.reset_index()\n",
    "face_df =  pd.DataFrame.from_dict(face_emb).T.reset_index()\n"
   ]
  },
  {
   "cell_type": "code",
   "execution_count": 3,
   "id": "39b2efbc-fbd0-408f-bcdb-44265708f5fa",
   "metadata": {},
   "outputs": [
    {
     "data": {
      "text/html": [
       "<div>\n",
       "<style scoped>\n",
       "    .dataframe tbody tr th:only-of-type {\n",
       "        vertical-align: middle;\n",
       "    }\n",
       "\n",
       "    .dataframe tbody tr th {\n",
       "        vertical-align: top;\n",
       "    }\n",
       "\n",
       "    .dataframe thead th {\n",
       "        text-align: right;\n",
       "    }\n",
       "</style>\n",
       "<table border=\"1\" class=\"dataframe\">\n",
       "  <thead>\n",
       "    <tr style=\"text-align: right;\">\n",
       "      <th></th>\n",
       "      <th>index</th>\n",
       "      <th>0</th>\n",
       "      <th>1</th>\n",
       "      <th>2</th>\n",
       "      <th>3</th>\n",
       "      <th>4</th>\n",
       "      <th>5</th>\n",
       "      <th>6</th>\n",
       "      <th>7</th>\n",
       "      <th>8</th>\n",
       "      <th>...</th>\n",
       "      <th>182</th>\n",
       "      <th>183</th>\n",
       "      <th>184</th>\n",
       "      <th>185</th>\n",
       "      <th>186</th>\n",
       "      <th>187</th>\n",
       "      <th>188</th>\n",
       "      <th>189</th>\n",
       "      <th>190</th>\n",
       "      <th>191</th>\n",
       "    </tr>\n",
       "  </thead>\n",
       "  <tbody>\n",
       "    <tr>\n",
       "      <th>0</th>\n",
       "      <td>Ronan_Farrow/aaSZM4e7AU8/00102.wav</td>\n",
       "      <td>33.898537</td>\n",
       "      <td>3.921535</td>\n",
       "      <td>-20.368700</td>\n",
       "      <td>-47.556862</td>\n",
       "      <td>-4.989654</td>\n",
       "      <td>-18.455454</td>\n",
       "      <td>12.782804</td>\n",
       "      <td>19.325085</td>\n",
       "      <td>6.648265</td>\n",
       "      <td>...</td>\n",
       "      <td>-6.505846</td>\n",
       "      <td>13.317440</td>\n",
       "      <td>16.088955</td>\n",
       "      <td>10.481414</td>\n",
       "      <td>-1.055707</td>\n",
       "      <td>3.693741</td>\n",
       "      <td>32.395004</td>\n",
       "      <td>3.947245</td>\n",
       "      <td>-0.548808</td>\n",
       "      <td>-32.880100</td>\n",
       "    </tr>\n",
       "    <tr>\n",
       "      <th>1</th>\n",
       "      <td>Ronan_Farrow/iHoOkskbwz8/00141.wav</td>\n",
       "      <td>2.208049</td>\n",
       "      <td>-27.211391</td>\n",
       "      <td>12.965365</td>\n",
       "      <td>21.879303</td>\n",
       "      <td>10.028281</td>\n",
       "      <td>14.146223</td>\n",
       "      <td>-32.257832</td>\n",
       "      <td>-4.648191</td>\n",
       "      <td>16.460787</td>\n",
       "      <td>...</td>\n",
       "      <td>-16.311125</td>\n",
       "      <td>-8.107459</td>\n",
       "      <td>2.558080</td>\n",
       "      <td>-32.009212</td>\n",
       "      <td>-29.041698</td>\n",
       "      <td>20.518143</td>\n",
       "      <td>-1.100664</td>\n",
       "      <td>1.003822</td>\n",
       "      <td>31.168587</td>\n",
       "      <td>13.086949</td>\n",
       "    </tr>\n",
       "    <tr>\n",
       "      <th>2</th>\n",
       "      <td>Ronan_Farrow/DTLV2-9nMNI/00034.wav</td>\n",
       "      <td>9.009793</td>\n",
       "      <td>41.082924</td>\n",
       "      <td>-10.212173</td>\n",
       "      <td>-25.880884</td>\n",
       "      <td>15.122940</td>\n",
       "      <td>-4.969586</td>\n",
       "      <td>1.046486</td>\n",
       "      <td>13.861155</td>\n",
       "      <td>9.851394</td>\n",
       "      <td>...</td>\n",
       "      <td>2.750567</td>\n",
       "      <td>10.616673</td>\n",
       "      <td>7.339180</td>\n",
       "      <td>-5.395815</td>\n",
       "      <td>11.826921</td>\n",
       "      <td>-13.325937</td>\n",
       "      <td>23.457645</td>\n",
       "      <td>-6.737992</td>\n",
       "      <td>9.119067</td>\n",
       "      <td>-15.492328</td>\n",
       "    </tr>\n",
       "  </tbody>\n",
       "</table>\n",
       "<p>3 rows × 193 columns</p>\n",
       "</div>"
      ],
      "text/plain": [
       "                                index          0          1          2  \\\n",
       "0  Ronan_Farrow/aaSZM4e7AU8/00102.wav  33.898537   3.921535 -20.368700   \n",
       "1  Ronan_Farrow/iHoOkskbwz8/00141.wav   2.208049 -27.211391  12.965365   \n",
       "2  Ronan_Farrow/DTLV2-9nMNI/00034.wav   9.009793  41.082924 -10.212173   \n",
       "\n",
       "           3          4          5          6          7          8  ...  \\\n",
       "0 -47.556862  -4.989654 -18.455454  12.782804  19.325085   6.648265  ...   \n",
       "1  21.879303  10.028281  14.146223 -32.257832  -4.648191  16.460787  ...   \n",
       "2 -25.880884  15.122940  -4.969586   1.046486  13.861155   9.851394  ...   \n",
       "\n",
       "         182        183        184        185        186        187  \\\n",
       "0  -6.505846  13.317440  16.088955  10.481414  -1.055707   3.693741   \n",
       "1 -16.311125  -8.107459   2.558080 -32.009212 -29.041698  20.518143   \n",
       "2   2.750567  10.616673   7.339180  -5.395815  11.826921 -13.325937   \n",
       "\n",
       "         188       189        190        191  \n",
       "0  32.395004  3.947245  -0.548808 -32.880100  \n",
       "1  -1.100664  1.003822  31.168587  13.086949  \n",
       "2  23.457645 -6.737992   9.119067 -15.492328  \n",
       "\n",
       "[3 rows x 193 columns]"
      ]
     },
     "execution_count": 3,
     "metadata": {},
     "output_type": "execute_result"
    }
   ],
   "source": [
    "audio_df.head(3)"
   ]
  },
  {
   "cell_type": "code",
   "execution_count": 4,
   "id": "56de7015-0bc1-431f-9a3e-d49af1794754",
   "metadata": {},
   "outputs": [
    {
     "data": {
      "text/html": [
       "<div>\n",
       "<style scoped>\n",
       "    .dataframe tbody tr th:only-of-type {\n",
       "        vertical-align: middle;\n",
       "    }\n",
       "\n",
       "    .dataframe tbody tr th {\n",
       "        vertical-align: top;\n",
       "    }\n",
       "\n",
       "    .dataframe thead th {\n",
       "        text-align: right;\n",
       "    }\n",
       "</style>\n",
       "<table border=\"1\" class=\"dataframe\">\n",
       "  <thead>\n",
       "    <tr style=\"text-align: right;\">\n",
       "      <th></th>\n",
       "      <th>index</th>\n",
       "      <th>0</th>\n",
       "      <th>1</th>\n",
       "      <th>2</th>\n",
       "      <th>3</th>\n",
       "      <th>4</th>\n",
       "      <th>5</th>\n",
       "      <th>6</th>\n",
       "      <th>7</th>\n",
       "      <th>8</th>\n",
       "      <th>...</th>\n",
       "      <th>502</th>\n",
       "      <th>503</th>\n",
       "      <th>504</th>\n",
       "      <th>505</th>\n",
       "      <th>506</th>\n",
       "      <th>507</th>\n",
       "      <th>508</th>\n",
       "      <th>509</th>\n",
       "      <th>510</th>\n",
       "      <th>511</th>\n",
       "    </tr>\n",
       "  </thead>\n",
       "  <tbody>\n",
       "    <tr>\n",
       "      <th>0</th>\n",
       "      <td>Ronan_Farrow/1.jpg</td>\n",
       "      <td>-0.059632</td>\n",
       "      <td>0.064536</td>\n",
       "      <td>-0.008410</td>\n",
       "      <td>-0.055838</td>\n",
       "      <td>0.028547</td>\n",
       "      <td>-0.109469</td>\n",
       "      <td>-0.018306</td>\n",
       "      <td>0.055878</td>\n",
       "      <td>0.032933</td>\n",
       "      <td>...</td>\n",
       "      <td>0.069911</td>\n",
       "      <td>-0.037521</td>\n",
       "      <td>0.045062</td>\n",
       "      <td>0.059087</td>\n",
       "      <td>0.006203</td>\n",
       "      <td>0.057657</td>\n",
       "      <td>-0.045365</td>\n",
       "      <td>0.002749</td>\n",
       "      <td>-0.009480</td>\n",
       "      <td>-0.031032</td>\n",
       "    </tr>\n",
       "    <tr>\n",
       "      <th>1</th>\n",
       "      <td>Ronan_Farrow/3.jpg</td>\n",
       "      <td>-0.071796</td>\n",
       "      <td>0.073578</td>\n",
       "      <td>-0.004804</td>\n",
       "      <td>-0.075755</td>\n",
       "      <td>0.030988</td>\n",
       "      <td>-0.097710</td>\n",
       "      <td>-0.006907</td>\n",
       "      <td>0.061086</td>\n",
       "      <td>0.034162</td>\n",
       "      <td>...</td>\n",
       "      <td>0.054289</td>\n",
       "      <td>-0.036864</td>\n",
       "      <td>0.030649</td>\n",
       "      <td>0.051350</td>\n",
       "      <td>0.012039</td>\n",
       "      <td>0.069078</td>\n",
       "      <td>-0.028601</td>\n",
       "      <td>0.009141</td>\n",
       "      <td>-0.008253</td>\n",
       "      <td>-0.027167</td>\n",
       "    </tr>\n",
       "    <tr>\n",
       "      <th>2</th>\n",
       "      <td>Ronan_Farrow/6.jpg</td>\n",
       "      <td>-0.058867</td>\n",
       "      <td>0.064723</td>\n",
       "      <td>0.004169</td>\n",
       "      <td>-0.053614</td>\n",
       "      <td>0.030354</td>\n",
       "      <td>-0.132318</td>\n",
       "      <td>-0.013864</td>\n",
       "      <td>0.022884</td>\n",
       "      <td>0.045510</td>\n",
       "      <td>...</td>\n",
       "      <td>0.095136</td>\n",
       "      <td>-0.036495</td>\n",
       "      <td>0.043408</td>\n",
       "      <td>0.076348</td>\n",
       "      <td>0.015769</td>\n",
       "      <td>0.033067</td>\n",
       "      <td>-0.037924</td>\n",
       "      <td>0.010873</td>\n",
       "      <td>0.012708</td>\n",
       "      <td>-0.031592</td>\n",
       "    </tr>\n",
       "  </tbody>\n",
       "</table>\n",
       "<p>3 rows × 513 columns</p>\n",
       "</div>"
      ],
      "text/plain": [
       "                index         0         1         2         3         4  \\\n",
       "0  Ronan_Farrow/1.jpg -0.059632  0.064536 -0.008410 -0.055838  0.028547   \n",
       "1  Ronan_Farrow/3.jpg -0.071796  0.073578 -0.004804 -0.075755  0.030988   \n",
       "2  Ronan_Farrow/6.jpg -0.058867  0.064723  0.004169 -0.053614  0.030354   \n",
       "\n",
       "          5         6         7         8  ...       502       503       504  \\\n",
       "0 -0.109469 -0.018306  0.055878  0.032933  ...  0.069911 -0.037521  0.045062   \n",
       "1 -0.097710 -0.006907  0.061086  0.034162  ...  0.054289 -0.036864  0.030649   \n",
       "2 -0.132318 -0.013864  0.022884  0.045510  ...  0.095136 -0.036495  0.043408   \n",
       "\n",
       "        505       506       507       508       509       510       511  \n",
       "0  0.059087  0.006203  0.057657 -0.045365  0.002749 -0.009480 -0.031032  \n",
       "1  0.051350  0.012039  0.069078 -0.028601  0.009141 -0.008253 -0.027167  \n",
       "2  0.076348  0.015769  0.033067 -0.037924  0.010873  0.012708 -0.031592  \n",
       "\n",
       "[3 rows x 513 columns]"
      ]
     },
     "execution_count": 4,
     "metadata": {},
     "output_type": "execute_result"
    }
   ],
   "source": [
    "face_df.head(3)"
   ]
  },
  {
   "cell_type": "markdown",
   "id": "59f2ad2e-f276-4340-867a-4df3befcdd84",
   "metadata": {},
   "source": [
    "#### 3. Get the identity (Name) in each modality and generate the mean face embedding for each name\n",
    "It appears that the Name (ID) appears in the string inside the 'index', just before the first slash. <br> After the slash comes the identifier of the file. <br> Hence I split the index in both modalities before the first slash, and give a regular numbering for the files of each ID.  "
   ]
  },
  {
   "cell_type": "code",
   "execution_count": 5,
   "id": "b4cc7636-e522-4ead-aad8-7a48977ab62f",
   "metadata": {
    "tags": []
   },
   "outputs": [],
   "source": [
    "audio_df[['s_Name','s_file']] = audio_df['index'].str.split('/', n=1, expand=True)\n",
    "audio_df = audio_df.sort_values(by=['s_Name','index'])\n",
    "audio_df['s_audio_fNum'] = audio_df.groupby('s_Name')['index'].rank(method='first').astype('int')\n",
    "audio_df = audio_df.drop(columns=['index','s_file'])\n",
    "audio_df= audio_df.set_index(['s_Name','s_audio_fNum']).add_prefix('audio_col_').reset_index()\n",
    "\n",
    "audio_cols = [col for col in audio_df.columns if 'col_' in col]\n"
   ]
  },
  {
   "cell_type": "code",
   "execution_count": 6,
   "id": "d5fe5c25-e35c-4102-a0b9-2a2c1a55b53e",
   "metadata": {},
   "outputs": [],
   "source": [
    "face_df[['s_Name','s_file']] = face_df['index'].str.split('/', n=1, expand=True)\n",
    "face_df = face_df.sort_values(by=['s_Name','index'])\n",
    "face_df['s_face_fNum'] = face_df.groupby('s_Name')['index'].rank(method='first').astype('int')\n",
    "face_df = face_df.drop(columns=['index','s_file'])\n",
    "face_df= face_df.set_index(['s_Name','s_face_fNum']).add_prefix('face_col_').reset_index()\n",
    "\n",
    "face_cols = [col for col in face_df.columns if 'col_' in col]"
   ]
  },
  {
   "cell_type": "markdown",
   "id": "d72312e3-7b4f-4840-bd81-9b185f8928d6",
   "metadata": {},
   "source": [
    "#### 4. Create an averaged face embedding for each ID\n",
    "The model that I will train is about to transform each of the audio embeddings into a face ambeddings.<br>\n",
    "Since for some of the IDs in the dataset there are more then 1 face embeddings, my goal is to train the model to transform each of the sound embeddings to the average face embedding of the same ID. <br>\n",
    "For this I need to average the face embedding of each ID."
   ]
  },
  {
   "cell_type": "code",
   "execution_count": 7,
   "id": "6255b58b-55d1-42ae-806a-2b16832b24bc",
   "metadata": {},
   "outputs": [],
   "source": [
    "face_df_grouped = face_df.drop(columns=['s_face_fNum']).groupby(['s_Name']).agg('mean').reset_index()"
   ]
  },
  {
   "cell_type": "markdown",
   "id": "290136fc-5e72-491a-bf50-f6c159dc8c49",
   "metadata": {},
   "source": [
    "#### 5. Combine data modalities - all examples of sound with the average face embedding of the same identity.\n",
    "This creates a unified dataset of both modalities that I will next split to train, validation, test"
   ]
  },
  {
   "cell_type": "code",
   "execution_count": 8,
   "id": "3a6977c3-f9de-4619-87ca-8144d12223f6",
   "metadata": {},
   "outputs": [],
   "source": [
    "combined_df  = audio_df.merge(face_df_grouped,on='s_Name',how='inner').dropna()"
   ]
  },
  {
   "cell_type": "markdown",
   "id": "df7237c1-7d3f-49de-853c-3846af6ee5e5",
   "metadata": {},
   "source": [
    "#### 6. Split the data to train, validation, and test, and shuffle the training dataset\n",
    "The testset will contain all family names starting with ['C' , 'D', 'E'] <br>\n",
    "The valset will contain all family names starting with ['A' , 'B']  <br>\n",
    "The trainset will contain all remaining IDs"
   ]
  },
  {
   "cell_type": "code",
   "execution_count": 9,
   "id": "246d438f-4e48-4312-bfe0-e525e6cda505",
   "metadata": {},
   "outputs": [
    {
     "name": "stdout",
     "output_type": "stream",
     "text": [
      "The number of unique IDs in the entire data:  2979\n",
      "The number of unique IDs in the test dataset:  424\n",
      "The number of unique IDs in the validation dataset:  390\n",
      "The number of unique IDs in the training dataset:  2176\n"
     ]
    }
   ],
   "source": [
    "print('The number of unique IDs in the entire data: ', combined_df['s_Name'].nunique())\n",
    "\n",
    "test_grouped_df = combined_df[(combined_df['s_Name'].str.contains('_C'))|(combined_df['s_Name'].str.contains('_D'))|(combined_df['s_Name'].str.contains('_E'))]\n",
    "print('The number of unique IDs in the test dataset: ', test_grouped_df['s_Name'].nunique())\n",
    "\n",
    "val_df =combined_df[(combined_df['s_Name'].str.contains('_A'))|(combined_df['s_Name'].str.contains('_B'))]\n",
    "print('The number of unique IDs in the validation dataset: ', val_df['s_Name'].nunique())\n",
    "\n",
    "reserved_names_list = test_grouped_df['s_Name'].unique().tolist()+val_df['s_Name'].unique().tolist()\n",
    "train_df = combined_df[~combined_df['s_Name'].isin(reserved_names_list)]\n",
    "print('The number of unique IDs in the training dataset: ',train_df['s_Name'].nunique())\n",
    "\n",
    "train_df = train_df.sample(frac = 1)\n"
   ]
  },
  {
   "cell_type": "markdown",
   "id": "fbe1683c-fd83-486e-93d6-d9830d0e95d1",
   "metadata": {},
   "source": [
    "#### 7. Reserve a similar testset, with the same IDS, only with the original face embeddings (not-averaged) "
   ]
  },
  {
   "cell_type": "code",
   "execution_count": 10,
   "id": "68c51826-0672-4366-995f-ecd1e1abc7cf",
   "metadata": {},
   "outputs": [],
   "source": [
    "ungrouped_face_test_df = face_df[face_df['s_Name'].isin(test_grouped_df['s_Name'].unique().tolist())]"
   ]
  },
  {
   "cell_type": "markdown",
   "id": "6f4f2a33-a150-4f4c-a454-99e5831cf78e",
   "metadata": {},
   "source": [
    "#### 8. Define the Autoencoder model\n",
    "The model will receive the audio embeddings and produce a predicted face embedding. <br>\n",
    "The loss is the mean averaged error between the predicted face embedding output and the avereraged face embedding of the same ID. "
   ]
  },
  {
   "cell_type": "code",
   "execution_count": null,
   "id": "78b0ee73-4c23-42c7-a88d-bd75c014fc78",
   "metadata": {},
   "outputs": [],
   "source": [
    "\n",
    "input_len = len(audio_cols)\n",
    "output_len = len(face_cols)\n",
    "\n",
    "model_AE_audio_face_1 = Sequential()\n",
    "model_AE_audio_face_1.add(Dense(input_len, input_shape=(input_len,)))\n",
    "model_AE_audio_face_1.add(LeakyReLU(alpha=0.1))\n",
    "model_AE_audio_face_1.add(BatchNormalization())\n",
    "model_AE_audio_face_1.add(Dense(input_len))\n",
    "model_AE_audio_face_1.add(LeakyReLU(alpha=0.1))\n",
    "model_AE_audio_face_1.add(BatchNormalization())\n",
    "model_AE_audio_face_1.add(Dense(input_len))\n",
    "model_AE_audio_face_1.add(LeakyReLU(alpha=0.1))\n",
    "model_AE_audio_face_1.add(BatchNormalization())\n",
    "model_AE_audio_face_1.add(Dense(input_len))\n",
    "model_AE_audio_face_1.add(LeakyReLU(alpha=0.1))\n",
    "model_AE_audio_face_1.add(BatchNormalization())\n",
    "model_AE_audio_face_1.add(Dense(input_len))\n",
    "model_AE_audio_face_1.add(LeakyReLU(alpha=0.1))\n",
    "model_AE_audio_face_1.add(BatchNormalization())\n",
    "model_AE_audio_face_1.add(Dense(input_len))\n",
    "model_AE_audio_face_1.add(LeakyReLU(alpha=0.1))\n",
    "model_AE_audio_face_1.add(BatchNormalization())\n",
    "model_AE_audio_face_1.add(Dense(input_len))\n",
    "model_AE_audio_face_1.add(LeakyReLU(alpha=0.1))\n",
    "model_AE_audio_face_1.add(Dense(128))\n",
    "model_AE_audio_face_1.add(LeakyReLU(alpha=0.1))\n",
    "model_AE_audio_face_1.add(Dense(64))\n",
    "model_AE_audio_face_1.add(LeakyReLU(alpha=0.1))\n",
    "model_AE_audio_face_1.add(Dense(256))\n",
    "model_AE_audio_face_1.add(LeakyReLU(alpha=0.1))\n",
    "model_AE_audio_face_1.add(Dense(output_len))"
   ]
  },
  {
   "cell_type": "markdown",
   "id": "254310c5-dc35-485f-b933-65d530a000ea",
   "metadata": {},
   "source": [
    "#### 9. Train the model while saving iteration at the best validation loss  "
   ]
  },
  {
   "cell_type": "code",
   "execution_count": 12,
   "id": "343ce378-2806-4ae2-b539-597d9dc8ed8b",
   "metadata": {
    "tags": []
   },
   "outputs": [
    {
     "name": "stdout",
     "output_type": "stream",
     "text": [
      "Epoch 1/30\n",
      "721/726 [============================>.] - ETA: 0s - loss: 0.0382 - mae: 0.0382\n",
      "Epoch 00001: val_loss improved from inf to 0.03364, saving model to /home/drorco/DC_corsound_submission/checkpnt1.pkl\n"
     ]
    },
    {
     "name": "stderr",
     "output_type": "stream",
     "text": [
      "2023-08-05 19:51:32.739449: W tensorflow/python/util/util.cc:368] Sets are not currently considered sequences, but this may change in the future, so consider avoiding using them.\n"
     ]
    },
    {
     "name": "stdout",
     "output_type": "stream",
     "text": [
      "INFO:tensorflow:Assets written to: /home/drorco/DC_corsound_submission/checkpnt1.pkl/assets\n",
      "726/726 [==============================] - 8s 8ms/step - loss: 0.0382 - mae: 0.0382 - val_loss: 0.0336 - val_mae: 0.0336\n",
      "Epoch 2/30\n",
      "725/726 [============================>.] - ETA: 0s - loss: 0.0337 - mae: 0.0337\n",
      "Epoch 00002: val_loss improved from 0.03364 to 0.03355, saving model to /home/drorco/DC_corsound_submission/checkpnt1.pkl\n",
      "INFO:tensorflow:Assets written to: /home/drorco/DC_corsound_submission/checkpnt1.pkl/assets\n",
      "726/726 [==============================] - 6s 8ms/step - loss: 0.0337 - mae: 0.0337 - val_loss: 0.0336 - val_mae: 0.0336\n",
      "Epoch 3/30\n",
      "717/726 [============================>.] - ETA: 0s - loss: 0.0337 - mae: 0.0337\n",
      "Epoch 00003: val_loss improved from 0.03355 to 0.03355, saving model to /home/drorco/DC_corsound_submission/checkpnt1.pkl\n",
      "INFO:tensorflow:Assets written to: /home/drorco/DC_corsound_submission/checkpnt1.pkl/assets\n",
      "726/726 [==============================] - 7s 9ms/step - loss: 0.0337 - mae: 0.0337 - val_loss: 0.0335 - val_mae: 0.0335\n",
      "Epoch 4/30\n",
      "720/726 [============================>.] - ETA: 0s - loss: 0.0337 - mae: 0.0337\n",
      "Epoch 00004: val_loss improved from 0.03355 to 0.03353, saving model to /home/drorco/DC_corsound_submission/checkpnt1.pkl\n",
      "INFO:tensorflow:Assets written to: /home/drorco/DC_corsound_submission/checkpnt1.pkl/assets\n",
      "726/726 [==============================] - 5s 7ms/step - loss: 0.0337 - mae: 0.0337 - val_loss: 0.0335 - val_mae: 0.0335\n",
      "Epoch 5/30\n",
      "720/726 [============================>.] - ETA: 0s - loss: 0.0336 - mae: 0.0336\n",
      "Epoch 00005: val_loss improved from 0.03353 to 0.03352, saving model to /home/drorco/DC_corsound_submission/checkpnt1.pkl\n",
      "INFO:tensorflow:Assets written to: /home/drorco/DC_corsound_submission/checkpnt1.pkl/assets\n",
      "726/726 [==============================] - 5s 7ms/step - loss: 0.0336 - mae: 0.0336 - val_loss: 0.0335 - val_mae: 0.0335\n",
      "Epoch 6/30\n",
      "719/726 [============================>.] - ETA: 0s - loss: 0.0336 - mae: 0.0336\n",
      "Epoch 00006: val_loss improved from 0.03352 to 0.03347, saving model to /home/drorco/DC_corsound_submission/checkpnt1.pkl\n",
      "INFO:tensorflow:Assets written to: /home/drorco/DC_corsound_submission/checkpnt1.pkl/assets\n",
      "726/726 [==============================] - 7s 9ms/step - loss: 0.0336 - mae: 0.0336 - val_loss: 0.0335 - val_mae: 0.0335\n",
      "Epoch 7/30\n",
      "723/726 [============================>.] - ETA: 0s - loss: 0.0334 - mae: 0.0334\n",
      "Epoch 00007: val_loss improved from 0.03347 to 0.03332, saving model to /home/drorco/DC_corsound_submission/checkpnt1.pkl\n",
      "INFO:tensorflow:Assets written to: /home/drorco/DC_corsound_submission/checkpnt1.pkl/assets\n",
      "726/726 [==============================] - 7s 9ms/step - loss: 0.0334 - mae: 0.0334 - val_loss: 0.0333 - val_mae: 0.0333\n",
      "Epoch 8/30\n",
      "725/726 [============================>.] - ETA: 0s - loss: 0.0331 - mae: 0.0331\n",
      "Epoch 00008: val_loss improved from 0.03332 to 0.03311, saving model to /home/drorco/DC_corsound_submission/checkpnt1.pkl\n",
      "INFO:tensorflow:Assets written to: /home/drorco/DC_corsound_submission/checkpnt1.pkl/assets\n",
      "726/726 [==============================] - 7s 10ms/step - loss: 0.0331 - mae: 0.0331 - val_loss: 0.0331 - val_mae: 0.0331\n",
      "Epoch 9/30\n",
      "717/726 [============================>.] - ETA: 0s - loss: 0.0328 - mae: 0.0328\n",
      "Epoch 00009: val_loss improved from 0.03311 to 0.03297, saving model to /home/drorco/DC_corsound_submission/checkpnt1.pkl\n",
      "INFO:tensorflow:Assets written to: /home/drorco/DC_corsound_submission/checkpnt1.pkl/assets\n",
      "726/726 [==============================] - 7s 10ms/step - loss: 0.0328 - mae: 0.0328 - val_loss: 0.0330 - val_mae: 0.0330\n",
      "Epoch 10/30\n",
      "725/726 [============================>.] - ETA: 0s - loss: 0.0325 - mae: 0.0325\n",
      "Epoch 00010: val_loss improved from 0.03297 to 0.03288, saving model to /home/drorco/DC_corsound_submission/checkpnt1.pkl\n",
      "INFO:tensorflow:Assets written to: /home/drorco/DC_corsound_submission/checkpnt1.pkl/assets\n",
      "726/726 [==============================] - 7s 9ms/step - loss: 0.0325 - mae: 0.0325 - val_loss: 0.0329 - val_mae: 0.0329\n",
      "Epoch 11/30\n",
      "721/726 [============================>.] - ETA: 0s - loss: 0.0323 - mae: 0.0323\n",
      "Epoch 00011: val_loss did not improve from 0.03288\n",
      "726/726 [==============================] - 4s 5ms/step - loss: 0.0323 - mae: 0.0323 - val_loss: 0.0329 - val_mae: 0.0329\n",
      "Epoch 12/30\n",
      "719/726 [============================>.] - ETA: 0s - loss: 0.0320 - mae: 0.0320\n",
      "Epoch 00012: val_loss did not improve from 0.03288\n",
      "726/726 [==============================] - 4s 5ms/step - loss: 0.0320 - mae: 0.0320 - val_loss: 0.0329 - val_mae: 0.0329\n",
      "Epoch 13/30\n",
      "720/726 [============================>.] - ETA: 0s - loss: 0.0318 - mae: 0.0318\n",
      "Epoch 00013: val_loss did not improve from 0.03288\n",
      "726/726 [==============================] - 3s 5ms/step - loss: 0.0318 - mae: 0.0318 - val_loss: 0.0329 - val_mae: 0.0329\n",
      "Epoch 14/30\n",
      "724/726 [============================>.] - ETA: 0s - loss: 0.0315 - mae: 0.0315\n",
      "Epoch 00014: val_loss did not improve from 0.03288\n",
      "726/726 [==============================] - 3s 5ms/step - loss: 0.0315 - mae: 0.0315 - val_loss: 0.0330 - val_mae: 0.0330\n",
      "Epoch 15/30\n",
      "714/726 [============================>.] - ETA: 0s - loss: 0.0313 - mae: 0.0313\n",
      "Epoch 00015: val_loss did not improve from 0.03288\n",
      "726/726 [==============================] - 4s 5ms/step - loss: 0.0313 - mae: 0.0313 - val_loss: 0.0330 - val_mae: 0.0330\n",
      "Epoch 16/30\n",
      "722/726 [============================>.] - ETA: 0s - loss: 0.0311 - mae: 0.0311\n",
      "Epoch 00016: val_loss did not improve from 0.03288\n",
      "726/726 [==============================] - 4s 5ms/step - loss: 0.0311 - mae: 0.0311 - val_loss: 0.0331 - val_mae: 0.0331\n",
      "Epoch 17/30\n",
      "720/726 [============================>.] - ETA: 0s - loss: 0.0309 - mae: 0.0309\n",
      "Epoch 00017: val_loss did not improve from 0.03288\n",
      "726/726 [==============================] - 4s 5ms/step - loss: 0.0309 - mae: 0.0309 - val_loss: 0.0331 - val_mae: 0.0331\n",
      "Epoch 18/30\n",
      "715/726 [============================>.] - ETA: 0s - loss: 0.0307 - mae: 0.0307\n",
      "Epoch 00018: val_loss did not improve from 0.03288\n",
      "726/726 [==============================] - 4s 5ms/step - loss: 0.0307 - mae: 0.0307 - val_loss: 0.0332 - val_mae: 0.0332\n",
      "Epoch 19/30\n",
      "715/726 [============================>.] - ETA: 0s - loss: 0.0306 - mae: 0.0306\n",
      "Epoch 00019: val_loss did not improve from 0.03288\n",
      "726/726 [==============================] - 3s 5ms/step - loss: 0.0306 - mae: 0.0306 - val_loss: 0.0332 - val_mae: 0.0332\n",
      "Epoch 20/30\n",
      "715/726 [============================>.] - ETA: 0s - loss: 0.0304 - mae: 0.0304\n",
      "Epoch 00020: val_loss did not improve from 0.03288\n",
      "726/726 [==============================] - 4s 5ms/step - loss: 0.0304 - mae: 0.0304 - val_loss: 0.0333 - val_mae: 0.0333\n",
      "Epoch 21/30\n",
      "714/726 [============================>.] - ETA: 0s - loss: 0.0302 - mae: 0.0302\n",
      "Epoch 00021: val_loss did not improve from 0.03288\n",
      "726/726 [==============================] - 3s 5ms/step - loss: 0.0302 - mae: 0.0302 - val_loss: 0.0334 - val_mae: 0.0334\n",
      "Epoch 22/30\n",
      "720/726 [============================>.] - ETA: 0s - loss: 0.0300 - mae: 0.0300\n",
      "Epoch 00022: val_loss did not improve from 0.03288\n",
      "726/726 [==============================] - 4s 6ms/step - loss: 0.0300 - mae: 0.0300 - val_loss: 0.0334 - val_mae: 0.0334\n",
      "Epoch 23/30\n",
      "725/726 [============================>.] - ETA: 0s - loss: 0.0299 - mae: 0.0299\n",
      "Epoch 00023: val_loss did not improve from 0.03288\n",
      "726/726 [==============================] - 4s 6ms/step - loss: 0.0299 - mae: 0.0299 - val_loss: 0.0335 - val_mae: 0.0335\n",
      "Epoch 24/30\n",
      "720/726 [============================>.] - ETA: 0s - loss: 0.0297 - mae: 0.0297\n",
      "Epoch 00024: val_loss did not improve from 0.03288\n",
      "726/726 [==============================] - 4s 5ms/step - loss: 0.0297 - mae: 0.0297 - val_loss: 0.0335 - val_mae: 0.0335\n",
      "Epoch 25/30\n",
      "717/726 [============================>.] - ETA: 0s - loss: 0.0295 - mae: 0.0295\n",
      "Epoch 00025: val_loss did not improve from 0.03288\n",
      "726/726 [==============================] - 4s 5ms/step - loss: 0.0295 - mae: 0.0295 - val_loss: 0.0336 - val_mae: 0.0336\n",
      "Epoch 26/30\n",
      "724/726 [============================>.] - ETA: 0s - loss: 0.0294 - mae: 0.0294\n",
      "Epoch 00026: val_loss did not improve from 0.03288\n",
      "726/726 [==============================] - 3s 5ms/step - loss: 0.0294 - mae: 0.0294 - val_loss: 0.0337 - val_mae: 0.0337\n",
      "Epoch 27/30\n",
      "715/726 [============================>.] - ETA: 0s - loss: 0.0292 - mae: 0.0292\n",
      "Epoch 00027: val_loss did not improve from 0.03288\n",
      "726/726 [==============================] - 4s 5ms/step - loss: 0.0292 - mae: 0.0292 - val_loss: 0.0338 - val_mae: 0.0338\n",
      "Epoch 28/30\n",
      "726/726 [==============================] - ETA: 0s - loss: 0.0291 - mae: 0.0291\n",
      "Epoch 00028: val_loss did not improve from 0.03288\n",
      "726/726 [==============================] - 3s 5ms/step - loss: 0.0291 - mae: 0.0291 - val_loss: 0.0338 - val_mae: 0.0338\n",
      "Epoch 29/30\n",
      "716/726 [============================>.] - ETA: 0s - loss: 0.0289 - mae: 0.0289\n",
      "Epoch 00029: val_loss did not improve from 0.03288\n",
      "726/726 [==============================] - 3s 5ms/step - loss: 0.0289 - mae: 0.0289 - val_loss: 0.0338 - val_mae: 0.0338\n",
      "Epoch 30/30\n",
      "724/726 [============================>.] - ETA: 0s - loss: 0.0288 - mae: 0.0288\n",
      "Epoch 00030: val_loss did not improve from 0.03288\n",
      "726/726 [==============================] - 4s 5ms/step - loss: 0.0288 - mae: 0.0288 - val_loss: 0.0339 - val_mae: 0.0339\n"
     ]
    }
   ],
   "source": [
    "adam = Adam(learning_rate=0.0001)\n",
    "model_path = '/home/drorco/DC_corsound_submission/checkpnt1.pkl'\n",
    "chk_pnt = ModelCheckpoint(model_path, monitor='val_loss',save_best_only=True,mode='auto',verbose=1)\n",
    "model_AE_audio_face_1.compile(loss='mae',optimizer=adam, metrics=['mae'])\n",
    "history = model_AE_audio_face_1.fit(train_df[audio_cols],train_df[face_cols] ,epochs=30,callbacks=[chk_pnt],shuffle=True,batch_size=30,validation_data=(val_df[audio_cols],val_df[face_cols] ),verbose=1)\n"
   ]
  },
  {
   "cell_type": "markdown",
   "id": "6bfbfbc6-7ba2-4003-a6fc-bf554eb73be0",
   "metadata": {},
   "source": [
    "#### 10. Review the train and validation loss throughout the training process"
   ]
  },
  {
   "cell_type": "code",
   "execution_count": 13,
   "id": "abcb7535-d2cd-4aef-af42-0e60ecebae07",
   "metadata": {},
   "outputs": [
    {
     "data": {
      "text/plain": [
       "(0.03, 0.035)"
      ]
     },
     "execution_count": 13,
     "metadata": {},
     "output_type": "execute_result"
    },
    {
     "data": {
      "image/png": "[encoded data removed]",
      "text/plain": [
       "<Figure size 432x288 with 1 Axes>"
      ]
     },
     "metadata": {
      "needs_background": "light"
     },
     "output_type": "display_data"
    }
   ],
   "source": [
    "plt.figure()\n",
    "plt.plot(history.history['loss'],color='g',label='train_loss')\n",
    "plt.plot(history.history['val_loss'],color='b',label='val_loss')\n",
    "plt.legend(loc='upper right')\n",
    "plt.ylim(0.03,0.035)"
   ]
  },
  {
   "cell_type": "markdown",
   "id": "3ddfd36a-0612-4f65-b160-a9b5dbfaa98a",
   "metadata": {},
   "source": [
    "#### 11. load the best model based on the validation loss"
   ]
  },
  {
   "cell_type": "code",
   "execution_count": 14,
   "id": "a8e0cb5e-3bda-4426-b1cb-424188d3a5a7",
   "metadata": {},
   "outputs": [],
   "source": [
    "loaded_model = load_model(model_path)"
   ]
  },
  {
   "cell_type": "markdown",
   "id": "cf3a16a3-6cf0-44c3-99c2-9df5fc5dd0fd",
   "metadata": {},
   "source": [
    "#### 12. Create a predicted face embedding for each of the audio embedding in the test dataset"
   ]
  },
  {
   "cell_type": "code",
   "execution_count": 15,
   "id": "062360ab-afdf-4be4-a6b6-1ca762707b7e",
   "metadata": {},
   "outputs": [],
   "source": [
    "test_audio = test_grouped_df[['s_Name','s_audio_fNum']+audio_cols]\n",
    "\n",
    "face_cols_preds = [col+'_pred' for col in face_cols]\n",
    "\n",
    "test_audio[face_cols_preds] = loaded_model.predict(test_audio[audio_cols])"
   ]
  },
  {
   "cell_type": "markdown",
   "id": "2974328e-e3f1-4c86-a1cf-11582742d2a2",
   "metadata": {},
   "source": [
    "#### 13. Evaluate the identification accuracy\n",
    "Here for each of the PREDICTED face embeddings (Anchor) is tested against a random positive and negative Actual face embedding samples. <br> A positive sample - one of the face embeddings of the same ID as the original audio embedding upon which the prediction was made. <br> A negative sample - one of the face embeddings of a different ID. <br> If it is closer to the positive sample it is considered as Correct identification . <br> If it is closer to the negative sample it is considered as False identification. <br> The accuracy is the percentage of correct identifications out of the entire test dataset. <br>\n",
    "For the sake of time, I choose not to generate all the possible combinations of audio-inputs, positive-face-embeddings, and negative-face embeddings as in the original identification accuracy metric. Instead, I generated predicted face embeddings from all audio-inputs, and compared them with randomly selected samples of positive and negative face embeddings as approximation of the identification accuracy.  "
   ]
  },
  {
   "cell_type": "code",
   "execution_count": 16,
   "id": "e3972710-1b85-4d3b-88ae-1db6d00a7950",
   "metadata": {},
   "outputs": [
    {
     "name": "stdout",
     "output_type": "stream",
     "text": [
      "The Accuracy is:  76.77000000000001 %\n"
     ]
    }
   ],
   "source": [
    "name_list = test_audio['s_Name'].unique().tolist()\n",
    "l=[]\n",
    "\n",
    "for name in name_list:\n",
    "    if name in (ungrouped_face_test_df['s_Name'].unique().tolist()):\n",
    "        \n",
    "        rndom_l = [rnd_name for rnd_name in name_list if rnd_name!=name]\n",
    "        rndom = random.choice(rndom_l)\n",
    "        \n",
    "        positive = ungrouped_face_test_df[(ungrouped_face_test_df['s_Name']==name)]\n",
    "        negative = ungrouped_face_test_df[(ungrouped_face_test_df['s_Name']==rndom)]\n",
    "\n",
    "        anchor = test_audio[test_audio['s_Name']==name].sort_values(by=['s_Name','s_audio_fNum'])\n",
    "        \n",
    "        if ((positive.shape[0]>0) and (anchor.shape[0]>0)):\n",
    "\n",
    "            for audio_fNum in anchor['s_audio_fNum'].unique().tolist():\n",
    "                \n",
    "                curr_pair = positive.sample().append(negative.sample())\n",
    "                            \n",
    "                knn = KNeighborsClassifier(n_neighbors=1)\n",
    "                knn.fit(curr_pair[face_cols], curr_pair['s_Name'])               \n",
    "                \n",
    "                pred_name = knn.predict(anchor[anchor['s_audio_fNum']==audio_fNum][face_cols_preds])\n",
    "                \n",
    "                l.append(int(pred_name==anchor[anchor['s_audio_fNum']==audio_fNum]['s_Name']))\n",
    "                \n",
    "print('The Accuracy is: ', round(sum(l)/len(l),4)*100, '%')              "
   ]
  },
  {
   "cell_type": "markdown",
   "id": "98418cc1-519d-4450-a162-86f0ec00488b",
   "metadata": {},
   "source": [
    "#### Overall, the achieved accuracy was in the expected boundaries (75%-80%)"
   ]
  },
  {
   "cell_type": "code",
   "execution_count": null,
   "id": "2b74953a-00f2-47a6-ae2a-c8bd81c0a6ba",
   "metadata": {},
   "outputs": [],
   "source": []
  }
 ],
 "metadata": {
  "kernelspec": {
   "display_name": "Python 3 (ipykernel)",
   "language": "python",
   "name": "python3"
  },
  "language_info": {
   "codemirror_mode": {
    "name": "ipython",
    "version": 3
   },
   "file_extension": ".py",
   "mimetype": "text/x-python",
   "name": "python",
   "nbconvert_exporter": "python",
   "pygments_lexer": "ipython3",
   "version": "3.8.10"
  }
 },
 "nbformat": 4,
 "nbformat_minor": 5
}
